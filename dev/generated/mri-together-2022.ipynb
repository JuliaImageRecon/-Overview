{
 "cells": [
  {
   "cell_type": "markdown",
   "source": [
    "# MRI Together Workshop 2022\n",
    "\n",
    "[https://mritogether.esmrmb.org](https://mritogether.esmrmb.org)\n",
    "\n",
    "---\n",
    "# Session: Expanding your image reconstruction toolbox\n",
    "\n",
    "# Image Reconstruction Using Julia\n",
    "- [Jeff Fessler](https://web.eecs.umich.edu/~fessler/),\n",
    "  University of Michigan, US,\n",
    "- [Tobias Knopp](https://www.tuhh.de/ibi/people/tobias-knopp-head-of-institute.html), Technische Universität Hamburg (TUHH), Germany\n",
    "\n",
    "Conflicts of interest regarding this presentation:\n",
    "Nothing to disclose\n",
    "\n",
    "The copyright of this presentation belongs to the Speaker.\n",
    "This presentation is released under a\n",
    "[CC-BY](https://creativecommons.org/licenses/by/4.0) license."
   ],
   "metadata": {}
  },
  {
   "cell_type": "markdown",
   "source": [
    "This page originates from\n",
    "[About](https://github.com/JuliaImageRecon/About)\n",
    "and discusses\n",
    "[Julia](https://julialang.org)\n",
    "and\n",
    "Julia packages for image reconstruction.\n",
    "\n",
    "This page was generated from a single Julia file:\n",
    "[mri-together-2022.jl](https://github.com/JuliaImageRecon/About/blob/main/docs/lit/mri-together-2022.jl)."
   ],
   "metadata": {}
  },
  {
   "cell_type": "markdown",
   "source": [
    "---\n",
    "## Together\n",
    "\n",
    "- Thank you to organizers!\n",
    "- Ancient history: [Netlib](https://netlib.org)\n",
    "  distributing shared math software by email\n",
    "  [1987 paper](http://doi.org/10.1145/22899.22904)\n",
    "- My [first contribution](https://netlib.org/gcv/vspline) in 1990\n",
    "- Transition from lone actors to teams \"together\"\n",
    "\n",
    "\n",
    "---\n",
    "# Links\n",
    "\n",
    "- [https://juliaimagerecon.github.io/Examples](https://juliaimagerecon.github.io/Examples)\n",
    "  (also has Julia setup instructions)\n",
    "- [https://github.com/JeffFessler/MIRT.jl](https://github.com/JeffFessler/MIRT.jl)\n",
    "  Julia version\n",
    "- [https://github.com/guanhuaw/MIRTorch](https://github.com/guanhuaw/MIRTorch)\n",
    "  PyTorch version\n",
    "- [https://github.com/JeffFessler/mirt](https://github.com/JeffFessler/mirt)\n",
    "  Matlab version\n",
    "\n",
    "- [https://github.com/StevenWhitaker/BlochSim.jl](https://github.com/StevenWhitaker/BlochSim.jl)\n",
    "- [https://github.com/cncastillo/KomaMRI.jl](https://github.com/cncastillo/KomaMRI.jl)\n",
    "- [https://github.com/JuliaMath/NFFT.jl](https://github.com/JuliaMath/NFFT.jl)\n",
    "- [https://github.com/MagneticResonanceImaging](https://github.com/MagneticResonanceImaging)\n",
    "- ...\n",
    "\n",
    "---\n",
    "## Why Julia for image reconstruction?\n",
    "\n",
    "- Speed:\n",
    "  * Performance of a compiled language (JIT via LLVM)\n",
    "  * Easy use of threads, distributed computing, GPU\n",
    "  * Memory efficient: `Float16`, Sparse of any type, call by ref.\n",
    "\n",
    "- Ease of use (solves \"2-language problem\"):\n",
    "  * Interactive development / prototyping\n",
    "  * Dynamic typing / Jupyter notebooks\n",
    "  * Extensive [documentation](https://docs.julialang.org)\n",
    "\n",
    "- Ease of coding / readability:\n",
    "  * Readable syntax matches the mathematics of computational imaging\n",
    "  * Unicode / UTF-8 `α β Ω θ Δ √ ⊗ ∞ …`\n",
    "  * Built-in operations with numerical arrays\n",
    "  * Namespace control with `using` and `import`\n",
    "  * IDE / debuggers: VSCode etc.\n",
    "  * Code reuse (object oriented): multiple dispatch, subtypes\n",
    "  * Combines best of Matlab, Python, LISP, ...\n",
    "\n",
    "- Libraries:\n",
    "  * `FFTW` `LAPACK` [`CUDA`](https://github.com/JuliaGPU/CUDA.jl) ...\n",
    "  * Interoperable with other languages `ccall` `pycall`\n",
    "    [MATLAB.jl](https://github.com/JuliaInterop/MATLAB.jl)\n",
    "\n",
    "- Reproducibility:\n",
    "  * `git`, `Pkg`, `Manifest`\n",
    "  * Julia-based markdown documentation (including this presentation)\n",
    "    using [Literate.jl](https://fredrikekre.github.io/Literate.jl)\n",
    "  * Continuous integration / code coverage with GitHub Actions\n",
    "\n",
    "- Free & open source\n",
    "\n",
    "---\n",
    "## Brief history of Julia\n",
    "\n",
    "- Started in 2009 around MIT\n",
    "  (Alan Edelman, Jeff Bezanson, Stefan Karpinski, and Viral B. Shah)\n",
    "\n",
    "- First release in 2012\n",
    "\n",
    "- 2017 SIAM Review [paper](http://doi.org/10.1137/141000671)\n",
    "\n",
    "- Version 1.0 in Aug. 2018\n",
    "\n",
    "- Used at University of Michigan since 2017 (1000s of students)"
   ],
   "metadata": {}
  },
  {
   "cell_type": "markdown",
   "source": [
    "---\n",
    "## Brief taste of Julia\n",
    "\n",
    "### Function definitions\n",
    "\n",
    "Ways to define the function\n",
    "$f(x,y) = x^2 + y^3$\n",
    "in Julia:"
   ],
   "metadata": {}
  },
  {
   "outputs": [],
   "cell_type": "code",
   "source": [
    "function f1(x,y)\n",
    "    return x^2 + y^3\n",
    "end\n",
    "\n",
    "f3 = (x,y) -> x^2 + y^3\n",
    "\n",
    "f(x,y) = x^2 + y^3 # looks the most like the math\n",
    "\n",
    "f(4,5)"
   ],
   "metadata": {},
   "execution_count": null
  },
  {
   "cell_type": "markdown",
   "source": [
    "### Gradient descent example\n",
    "\n",
    "To minimize $f(x)$ using gradient descent\n",
    "(for illustration)\n",
    "in math:\n",
    "$$\n",
    "x_k = x_{k-1} - \\alpha \\nabla f(x_{k-1})\n",
    ", \\text{ for } k=1,2,\\ldots,N_{\\mathrm{iter}}\n",
    "$$\n",
    "\n",
    "Enter symbols like `α` with LaTeX codes and tab completion:\n",
    "`\\alpha<tab>`.\n",
    "\n",
    "Julia code for GD below looks remarkably similar to the math.\n",
    "- Type annotation is optional.\n",
    "- Arguments following `;` are named keyword arguments."
   ],
   "metadata": {}
  },
  {
   "outputs": [],
   "cell_type": "code",
   "source": [
    "function gd(∇f::Function, α::Real, x ; Niter::Int = 50)\n",
    "    for iter in 1:Niter\n",
    "         x = x - α * ∇f(x)\n",
    "    end\n",
    "    return x\n",
    "end"
   ],
   "metadata": {},
   "execution_count": null
  },
  {
   "cell_type": "markdown",
   "source": [
    "### Testing the GD function\n",
    "\n",
    "Example:\n",
    "$f(x) = \\frac{1}{2} \\| A x - y \\|^2$\n",
    "⟹\n",
    "$∇ f(x) = A' (A x - y)$\n",
    "⟹\n",
    "$L_{∇f} = \\| A \\|_2^2$\n",
    "⟹\n",
    "$α = 1/L_{∇f}$"
   ],
   "metadata": {}
  },
  {
   "outputs": [],
   "cell_type": "code",
   "source": [
    "using LinearAlgebra: opnorm # same as svdvals(A)[1]\n",
    "M,N = 6,4\n",
    "A = randn(M,N); y = randn(M); # test data\n",
    "∇f(x) = A'*(A*x - y) # LS gradient\n",
    "xh = A \\ y # global minimizer of f\n",
    "α = 1/opnorm(A)^2 # step size = 1/Lipschitz constant\n",
    "xgd = gd(∇f, α, zeros(N) ; Niter=9000)\n",
    "@assert xgd ≈ xh # equivalent within precision of type"
   ],
   "metadata": {},
   "execution_count": null
  },
  {
   "cell_type": "markdown",
   "source": [
    "### Image example\n",
    "Since this is an imaging workshop,\n",
    "this page must include at least one image..."
   ],
   "metadata": {}
  },
  {
   "outputs": [],
   "cell_type": "code",
   "source": [
    "using MIRTjim: jim\n",
    "x = range(-1,1,15)\n",
    "y = range(-1,1,11)\n",
    "image = f.(x, y') # broadcast !\n",
    "p1 = jim(image; color=:cividis, title=\"Image Example\")"
   ],
   "metadata": {},
   "execution_count": null
  },
  {
   "cell_type": "markdown",
   "source": [
    "---\n",
    "## \"Expanding your image reconstruction toolbox\"\n",
    "\n",
    "- The mega-package approach of BART/MIRT/ASTRA/... in Matlab, Python, C.\n",
    "\n",
    "- Julia way: \"ala carte\"\n",
    "  by `using` methods from various packages.\n",
    "\n",
    "- Chef's recommended menu?\n",
    "  Documented examples!\n",
    "\n",
    "  - [L+S dynamic MRI recon](https://juliaimagerecon.github.io/Examples/generated/mri/5-l-plus-s)\n",
    "  - [MRIFieldmaps.jl](https://github.com/MagneticResonanceImaging/MRIFieldmaps.jl)"
   ],
   "metadata": {}
  },
  {
   "cell_type": "markdown",
   "source": [
    "---\n",
    "### Reproducibility\n",
    "\n",
    "This page was generated with the following version of Julia:"
   ],
   "metadata": {}
  },
  {
   "outputs": [],
   "cell_type": "code",
   "source": [
    "using InteractiveUtils: versioninfo\n",
    "io = IOBuffer(); versioninfo(io); split(String(take!(io)), '\\n')"
   ],
   "metadata": {},
   "execution_count": null
  },
  {
   "cell_type": "markdown",
   "source": [
    "And with the following package versions"
   ],
   "metadata": {}
  },
  {
   "outputs": [],
   "cell_type": "code",
   "source": [
    "import Pkg; Pkg.status()"
   ],
   "metadata": {},
   "execution_count": null
  },
  {
   "cell_type": "markdown",
   "source": [
    "---\n",
    "\n",
    "*This notebook was generated using [Literate.jl](https://github.com/fredrikekre/Literate.jl).*"
   ],
   "metadata": {}
  }
 ],
 "nbformat_minor": 3,
 "metadata": {
  "language_info": {
   "file_extension": ".jl",
   "mimetype": "application/julia",
   "name": "julia",
   "version": "1.9.3"
  },
  "kernelspec": {
   "name": "julia-1.9",
   "display_name": "Julia 1.9.3",
   "language": "julia"
  }
 },
 "nbformat": 4
}
